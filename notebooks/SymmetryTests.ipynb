{
 "cells": [
  {
   "cell_type": "code",
   "execution_count": 2,
   "metadata": {},
   "outputs": [
    {
     "name": "stdout",
     "output_type": "stream",
     "text": [
      "48 = 48\n",
      "2 6\n",
      "48\n",
      "8 = 8\n"
     ]
    }
   ],
   "source": [
    "import setup\n",
    "import numpy as np\n",
    "import symmetry as s\n",
    "\n",
    "# smallest set of generators for O_h\n",
    "S = [[[-1,0,0], [0,1,0], [0,0,1]],\n",
    "     [[0,0,1], [1,0,0], [0,1,0]],\n",
    "     [[1,0,0], [0,0,1], [0,1,0]]]\n",
    "print(len(s.Symmetry.from_generator(S, False)), \"= 48\")\n",
    "a = s.Symmetry.from_generator([S[0]], False)\n",
    "b = s.Symmetry.from_generator([S[1]], False)\n",
    "c = s.Symmetry.from_generator([S[2]], False)\n",
    "print(len(a), len(b * c))\n",
    "print(len(a * (b * c)))\n",
    "#print(len(s.Symmetry.from_generator((a * b * c).S, True)))\n",
    "\n",
    "# square symmetries\n",
    "print(len(s.Symmetry.square()), \"= 8\")"
   ]
  },
  {
   "cell_type": "code",
   "execution_count": 2,
   "metadata": {},
   "outputs": [
    {
     "name": "stdout",
     "output_type": "stream",
     "text": [
      "6, 6, 8, 3, 1, 6, 6, 8, 3, 1, "
     ]
    }
   ],
   "source": [
    "classes = s.Symmetry.cubic(True).conjugacy_classes()\n",
    "for c in classes:\n",
    "    print(len(c), end=\", \")"
   ]
  },
  {
   "cell_type": "code",
   "execution_count": 3,
   "metadata": {},
   "outputs": [
    {
     "name": "stdout",
     "output_type": "stream",
     "text": [
      "6\n",
      "3\n",
      "2\n",
      "True\n"
     ]
    }
   ],
   "source": [
    "C_6 = s.Symmetry.from_generator([[[np.exp(2j*np.pi/6)]],], False)\n",
    "print(len(C_6))\n",
    "C_3 = s.Symmetry.from_generator([[[np.exp(2j*np.pi/3)]],], False)\n",
    "print(len(C_3))\n",
    "C_2 = s.Symmetry.from_generator([[[np.exp(2j*np.pi/2)]],], False)\n",
    "print(len(C_2))\n",
    "print((C_6 / C_3) == C_2)"
   ]
  },
  {
   "cell_type": "code",
   "execution_count": 4,
   "metadata": {},
   "outputs": [
    {
     "name": "stdout",
     "output_type": "stream",
     "text": [
      "24 = 24\n",
      "4 = 4\n",
      "6 = 6\n"
     ]
    }
   ],
   "source": [
    "# smallest set of generators for O\n",
    "S = [[[0,1,0], [-1,0,0], [0,0,1]],\n",
    "     [[0,0,1], [1,0,0], [0,1,0]]]\n",
    "O = s.Symmetry.from_generator(S, False)\n",
    "print(len(O), \"= 24\")\n",
    "assert s.Symmetry.cubic(False) == O\n",
    "# generators for a klein four subgroup V_4\n",
    "S = [[[-1,0,0], [0,-1,0], [0,0,1]],\n",
    "     [[1,0,0], [0,-1,0], [0,0,-1]]]\n",
    "V_4 = s.Symmetry.from_generator(S, False)\n",
    "print(len(V_4), \"= 4\")\n",
    "# generators for the factor group ig\n",
    "S = [[[0,0,1], [0,-1,0], [1,0,0]],\n",
    "     [[-1,0,0], [0,0,1], [0,1,0]]]\n",
    "F = s.Symmetry.from_generator(S, False)\n",
    "print(len(F), \"= 6\")\n",
    "assert s.Symmetry.even_perm3(False) == F\n",
    "assert V_4 * F == O\n",
    "assert O / V_4 == F\n",
    "assert O / s.Symmetry.mirror3(False) == F\n",
    "# perm3 is no normal divisor of the cubic group\n",
    "#print(O / s.Symmetry.perm3(False) == s.Symmetry.mirror3(False))"
   ]
  },
  {
   "cell_type": "code",
   "execution_count": 5,
   "metadata": {},
   "outputs": [
    {
     "name": "stdout",
     "output_type": "stream",
     "text": [
      "24 = 24\n"
     ]
    }
   ],
   "source": [
    "# smallest set of generators for O\n",
    "S = [[[0,1,0], [-1,0,0], [0,0,1]],\n",
    "     [[0,0,1], [1,0,0], [0,1,0]]]\n",
    "O = s.Symmetry.from_generator(S, False)\n",
    "print(len(O), \"= 24\")"
   ]
  },
  {
   "cell_type": "code",
   "execution_count": 10,
   "metadata": {},
   "outputs": [
    {
     "name": "stdout",
     "output_type": "stream",
     "text": [
      "[[[ 1.  0.]\n",
      "  [ 0.  1.]]\n",
      "\n",
      " [[ 0.  1.]\n",
      "  [-1.  0.]]\n",
      "\n",
      " [[-1.  0.]\n",
      "  [ 0. -1.]]\n",
      "\n",
      " [[ 0. -1.]\n",
      "  [ 1.  0.]]] False\n"
     ]
    }
   ],
   "source": [
    "S = [((0, 1), (-1, 0))]\n",
    "R = s.Symmetry.from_generator(S, False)\n",
    "print(R.S, R.inversion)"
   ]
  },
  {
   "cell_type": "code",
   "execution_count": 12,
   "metadata": {},
   "outputs": [
    {
     "name": "stdout",
     "output_type": "stream",
     "text": [
      "[[[ 1.  0.]\n",
      "  [ 0.  1.]]\n",
      "\n",
      " [[ 0.  1.]\n",
      "  [-1.  0.]]\n",
      "\n",
      " [[ 1.  0.]\n",
      "  [ 0. -1.]]\n",
      "\n",
      " [[-1.  0.]\n",
      "  [ 0. -1.]]\n",
      "\n",
      " [[ 0. -1.]\n",
      "  [-1.  0.]]\n",
      "\n",
      " [[ 0.  1.]\n",
      "  [ 1.  0.]]\n",
      "\n",
      " [[ 0. -1.]\n",
      "  [ 1.  0.]]\n",
      "\n",
      " [[-1.  0.]\n",
      "  [ 0.  1.]]] False\n",
      "[[[ 1.  0.]\n",
      "  [ 0.  1.]]\n",
      "\n",
      " [[-1.  0.]\n",
      "  [ 0.  1.]]]\n"
     ]
    }
   ],
   "source": [
    "S = [((0, 1), (-1, 0)), ((1, 0), (0, -1))]\n",
    "Sq = s.Symmetry.from_generator(S, False)\n",
    "print(Sq.S, Sq.inversion)\n",
    "print((Sq / R).S)"
   ]
  }
 ],
 "metadata": {
  "kernelspec": {
   "display_name": "Python 3",
   "language": "python",
   "name": "python3"
  },
  "language_info": {
   "codemirror_mode": {
    "name": "ipython",
    "version": 3
   },
   "file_extension": ".py",
   "mimetype": "text/x-python",
   "name": "python",
   "nbconvert_exporter": "python",
   "pygments_lexer": "ipython3",
   "version": "3.11.7"
  }
 },
 "nbformat": 4,
 "nbformat_minor": 2
}
